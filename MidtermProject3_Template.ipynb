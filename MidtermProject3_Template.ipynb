{
  "cells": [
    {
      "cell_type": "markdown",
      "metadata": {
        "id": "view-in-github",
        "colab_type": "text"
      },
      "source": [
        "<a href=\"https://colab.research.google.com/github/kaleemahmed2022/DL_Project/blob/main/MidtermProject3_Template.ipynb\" target=\"_parent\"><img src=\"https://colab.research.google.com/assets/colab-badge.svg\" alt=\"Open In Colab\"/></a>"
      ]
    },
    {
      "cell_type": "markdown",
      "metadata": {
        "id": "Jfdp9AuuAAG2"
      },
      "source": [
        "# Midterm Project 3 (100 points total)"
      ]
    },
    {
      "cell_type": "markdown",
      "metadata": {
        "id": "s4Zk-ZR5AAG3"
      },
      "source": [
        "## In this project, you need to use neural networks: Build a Feed-forward Neural Network and a Convolutional Neural Network using Keras library to classify patients with heart conditions."
      ]
    },
    {
      "cell_type": "markdown",
      "metadata": {
        "id": "36KIoT9MAAG4"
      },
      "source": [
        "### Import the necessary libraries. (5 points)"
      ]
    },
    {
      "cell_type": "code",
      "execution_count": 38,
      "metadata": {
        "colab": {
          "base_uri": "https://localhost:8080/"
        },
        "id": "sMUR_Eb6AAG5",
        "outputId": "4981b943-24bf-46ad-9725-1d2e215ba16e"
      },
      "outputs": [
        {
          "output_type": "stream",
          "name": "stdout",
          "text": [
            "Requirement already satisfied: tensorflow in /usr/local/lib/python3.7/dist-packages (2.8.0+zzzcolab20220506162203)\n",
            "Requirement already satisfied: gast>=0.2.1 in /usr/local/lib/python3.7/dist-packages (from tensorflow) (0.5.3)\n",
            "Requirement already satisfied: tensorflow-io-gcs-filesystem>=0.23.1 in /usr/local/lib/python3.7/dist-packages (from tensorflow) (0.25.0)\n",
            "Requirement already satisfied: typing-extensions>=3.6.6 in /usr/local/lib/python3.7/dist-packages (from tensorflow) (4.2.0)\n",
            "Requirement already satisfied: protobuf>=3.9.2 in /usr/local/lib/python3.7/dist-packages (from tensorflow) (3.17.3)\n",
            "Requirement already satisfied: tensorboard<2.9,>=2.8 in /usr/local/lib/python3.7/dist-packages (from tensorflow) (2.8.0)\n",
            "Requirement already satisfied: flatbuffers>=1.12 in /usr/local/lib/python3.7/dist-packages (from tensorflow) (2.0)\n",
            "Requirement already satisfied: tf-estimator-nightly==2.8.0.dev2021122109 in /usr/local/lib/python3.7/dist-packages (from tensorflow) (2.8.0.dev2021122109)\n",
            "Requirement already satisfied: google-pasta>=0.1.1 in /usr/local/lib/python3.7/dist-packages (from tensorflow) (0.2.0)\n",
            "Requirement already satisfied: keras-preprocessing>=1.1.1 in /usr/local/lib/python3.7/dist-packages (from tensorflow) (1.1.2)\n",
            "Requirement already satisfied: numpy>=1.20 in /usr/local/lib/python3.7/dist-packages (from tensorflow) (1.21.6)\n",
            "Requirement already satisfied: setuptools in /usr/local/lib/python3.7/dist-packages (from tensorflow) (57.4.0)\n",
            "Requirement already satisfied: opt-einsum>=2.3.2 in /usr/local/lib/python3.7/dist-packages (from tensorflow) (3.3.0)\n",
            "Requirement already satisfied: grpcio<2.0,>=1.24.3 in /usr/local/lib/python3.7/dist-packages (from tensorflow) (1.46.1)\n",
            "Requirement already satisfied: six>=1.12.0 in /usr/local/lib/python3.7/dist-packages (from tensorflow) (1.15.0)\n",
            "Requirement already satisfied: h5py>=2.9.0 in /usr/local/lib/python3.7/dist-packages (from tensorflow) (3.1.0)\n",
            "Requirement already satisfied: astunparse>=1.6.0 in /usr/local/lib/python3.7/dist-packages (from tensorflow) (1.6.3)\n",
            "Requirement already satisfied: libclang>=9.0.1 in /usr/local/lib/python3.7/dist-packages (from tensorflow) (14.0.1)\n",
            "Requirement already satisfied: wrapt>=1.11.0 in /usr/local/lib/python3.7/dist-packages (from tensorflow) (1.14.1)\n",
            "Requirement already satisfied: absl-py>=0.4.0 in /usr/local/lib/python3.7/dist-packages (from tensorflow) (1.0.0)\n",
            "Requirement already satisfied: termcolor>=1.1.0 in /usr/local/lib/python3.7/dist-packages (from tensorflow) (1.1.0)\n",
            "Requirement already satisfied: keras<2.9,>=2.8.0rc0 in /usr/local/lib/python3.7/dist-packages (from tensorflow) (2.8.0)\n",
            "Requirement already satisfied: wheel<1.0,>=0.23.0 in /usr/local/lib/python3.7/dist-packages (from astunparse>=1.6.0->tensorflow) (0.37.1)\n",
            "Requirement already satisfied: cached-property in /usr/local/lib/python3.7/dist-packages (from h5py>=2.9.0->tensorflow) (1.5.2)\n",
            "Requirement already satisfied: markdown>=2.6.8 in /usr/local/lib/python3.7/dist-packages (from tensorboard<2.9,>=2.8->tensorflow) (3.3.7)\n",
            "Requirement already satisfied: google-auth-oauthlib<0.5,>=0.4.1 in /usr/local/lib/python3.7/dist-packages (from tensorboard<2.9,>=2.8->tensorflow) (0.4.6)\n",
            "Requirement already satisfied: tensorboard-data-server<0.7.0,>=0.6.0 in /usr/local/lib/python3.7/dist-packages (from tensorboard<2.9,>=2.8->tensorflow) (0.6.1)\n",
            "Requirement already satisfied: google-auth<3,>=1.6.3 in /usr/local/lib/python3.7/dist-packages (from tensorboard<2.9,>=2.8->tensorflow) (1.35.0)\n",
            "Requirement already satisfied: werkzeug>=0.11.15 in /usr/local/lib/python3.7/dist-packages (from tensorboard<2.9,>=2.8->tensorflow) (1.0.1)\n",
            "Requirement already satisfied: tensorboard-plugin-wit>=1.6.0 in /usr/local/lib/python3.7/dist-packages (from tensorboard<2.9,>=2.8->tensorflow) (1.8.1)\n",
            "Requirement already satisfied: requests<3,>=2.21.0 in /usr/local/lib/python3.7/dist-packages (from tensorboard<2.9,>=2.8->tensorflow) (2.23.0)\n",
            "Requirement already satisfied: cachetools<5.0,>=2.0.0 in /usr/local/lib/python3.7/dist-packages (from google-auth<3,>=1.6.3->tensorboard<2.9,>=2.8->tensorflow) (4.2.4)\n",
            "Requirement already satisfied: pyasn1-modules>=0.2.1 in /usr/local/lib/python3.7/dist-packages (from google-auth<3,>=1.6.3->tensorboard<2.9,>=2.8->tensorflow) (0.2.8)\n",
            "Requirement already satisfied: rsa<5,>=3.1.4 in /usr/local/lib/python3.7/dist-packages (from google-auth<3,>=1.6.3->tensorboard<2.9,>=2.8->tensorflow) (4.8)\n",
            "Requirement already satisfied: requests-oauthlib>=0.7.0 in /usr/local/lib/python3.7/dist-packages (from google-auth-oauthlib<0.5,>=0.4.1->tensorboard<2.9,>=2.8->tensorflow) (1.3.1)\n",
            "Requirement already satisfied: importlib-metadata>=4.4 in /usr/local/lib/python3.7/dist-packages (from markdown>=2.6.8->tensorboard<2.9,>=2.8->tensorflow) (4.11.3)\n",
            "Requirement already satisfied: zipp>=0.5 in /usr/local/lib/python3.7/dist-packages (from importlib-metadata>=4.4->markdown>=2.6.8->tensorboard<2.9,>=2.8->tensorflow) (3.8.0)\n",
            "Requirement already satisfied: pyasn1<0.5.0,>=0.4.6 in /usr/local/lib/python3.7/dist-packages (from pyasn1-modules>=0.2.1->google-auth<3,>=1.6.3->tensorboard<2.9,>=2.8->tensorflow) (0.4.8)\n",
            "Requirement already satisfied: certifi>=2017.4.17 in /usr/local/lib/python3.7/dist-packages (from requests<3,>=2.21.0->tensorboard<2.9,>=2.8->tensorflow) (2021.10.8)\n",
            "Requirement already satisfied: chardet<4,>=3.0.2 in /usr/local/lib/python3.7/dist-packages (from requests<3,>=2.21.0->tensorboard<2.9,>=2.8->tensorflow) (3.0.4)\n",
            "Requirement already satisfied: idna<3,>=2.5 in /usr/local/lib/python3.7/dist-packages (from requests<3,>=2.21.0->tensorboard<2.9,>=2.8->tensorflow) (2.10)\n",
            "Requirement already satisfied: urllib3!=1.25.0,!=1.25.1,<1.26,>=1.21.1 in /usr/local/lib/python3.7/dist-packages (from requests<3,>=2.21.0->tensorboard<2.9,>=2.8->tensorflow) (1.24.3)\n",
            "Requirement already satisfied: oauthlib>=3.0.0 in /usr/local/lib/python3.7/dist-packages (from requests-oauthlib>=0.7.0->google-auth-oauthlib<0.5,>=0.4.1->tensorboard<2.9,>=2.8->tensorflow) (3.2.0)\n"
          ]
        }
      ],
      "source": [
        "#Import the necessary libraries.\n",
        "\n",
        "!pip install tensorflow\n"
      ]
    },
    {
      "cell_type": "code",
      "source": [
        "import numpy as np\n",
        "import pandas as pd\n",
        "import matplotlib.pyplot as plt\n",
        "import seaborn as sns\n",
        "\n",
        "from sklearn.model_selection import train_test_split\n",
        "from sklearn.preprocessing import StandardScaler, MinMaxScaler\n",
        "from sklearn.metrics import accuracy_score, confusion_matrix, f1_score, classification_report\n",
        "\n",
        "from tensorflow.keras.models import Sequential\n",
        "from tensorflow.keras.layers import Dense,Conv2D,Flatten,MaxPooling2D, Dropout\n",
        "from tensorflow.keras.callbacks import EarlyStopping,ReduceLROnPlateau\n",
        "from sklearn.utils.class_weight import compute_class_weight\n",
        "from tensorflow.keras.utils import to_categorical\n",
        "\n",
        "\n",
        "from tensorflow.keras.preprocessing.image import ImageDataGenerator\n",
        "from keras.models import load_model"
      ],
      "metadata": {
        "id": "OOVjGxjqAap7"
      },
      "execution_count": 39,
      "outputs": []
    },
    {
      "cell_type": "markdown",
      "metadata": {
        "id": "4RMGL3veAAG7"
      },
      "source": [
        "### After that, upload the data and preprocess it. (20 points)"
      ]
    },
    {
      "cell_type": "code",
      "execution_count": 40,
      "metadata": {
        "id": "EdtoyDP5AAG7"
      },
      "outputs": [],
      "source": [
        "#Upload the data and save it to a Dataframe.\n",
        "data = pd.read_csv('Heartbeat_dataset.csv', header=None)\n",
        "data=pd.DataFrame(data)"
      ]
    },
    {
      "cell_type": "code",
      "source": [
        "data.head()"
      ],
      "metadata": {
        "colab": {
          "base_uri": "https://localhost:8080/",
          "height": 297
        },
        "id": "S3fjR_eUA39r",
        "outputId": "dfc0e8b2-f833-4e27-fff4-44feb16dbe74"
      },
      "execution_count": 41,
      "outputs": [
        {
          "output_type": "execute_result",
          "data": {
            "text/plain": [
              "        0         1         2         3         4         5         6    \\\n",
              "0  0.977941  0.926471  0.681373  0.245098  0.154412  0.191176  0.151961   \n",
              "1  0.960114  0.863248  0.461538  0.196581  0.094017  0.125356  0.099715   \n",
              "2  1.000000  0.659459  0.186486  0.070270  0.070270  0.059459  0.056757   \n",
              "3  0.925414  0.665746  0.541436  0.276243  0.196133  0.077348  0.071823   \n",
              "4  0.967136  1.000000  0.830986  0.586854  0.356808  0.248826  0.145540   \n",
              "\n",
              "        7         8         9    ...  178  179  180  181  182  183  184  185  \\\n",
              "0  0.085784  0.058824  0.049020  ...  0.0  0.0  0.0  0.0  0.0  0.0  0.0  0.0   \n",
              "1  0.088319  0.074074  0.082621  ...  0.0  0.0  0.0  0.0  0.0  0.0  0.0  0.0   \n",
              "2  0.043243  0.054054  0.045946  ...  0.0  0.0  0.0  0.0  0.0  0.0  0.0  0.0   \n",
              "3  0.060773  0.066298  0.058011  ...  0.0  0.0  0.0  0.0  0.0  0.0  0.0  0.0   \n",
              "4  0.089202  0.117371  0.150235  ...  0.0  0.0  0.0  0.0  0.0  0.0  0.0  0.0   \n",
              "\n",
              "   186  187  \n",
              "0  0.0  0.0  \n",
              "1  0.0  0.0  \n",
              "2  0.0  0.0  \n",
              "3  0.0  0.0  \n",
              "4  0.0  0.0  \n",
              "\n",
              "[5 rows x 188 columns]"
            ],
            "text/html": [
              "\n",
              "  <div id=\"df-663c8761-e881-4d6f-9ff6-2c2e327de6bf\">\n",
              "    <div class=\"colab-df-container\">\n",
              "      <div>\n",
              "<style scoped>\n",
              "    .dataframe tbody tr th:only-of-type {\n",
              "        vertical-align: middle;\n",
              "    }\n",
              "\n",
              "    .dataframe tbody tr th {\n",
              "        vertical-align: top;\n",
              "    }\n",
              "\n",
              "    .dataframe thead th {\n",
              "        text-align: right;\n",
              "    }\n",
              "</style>\n",
              "<table border=\"1\" class=\"dataframe\">\n",
              "  <thead>\n",
              "    <tr style=\"text-align: right;\">\n",
              "      <th></th>\n",
              "      <th>0</th>\n",
              "      <th>1</th>\n",
              "      <th>2</th>\n",
              "      <th>3</th>\n",
              "      <th>4</th>\n",
              "      <th>5</th>\n",
              "      <th>6</th>\n",
              "      <th>7</th>\n",
              "      <th>8</th>\n",
              "      <th>9</th>\n",
              "      <th>...</th>\n",
              "      <th>178</th>\n",
              "      <th>179</th>\n",
              "      <th>180</th>\n",
              "      <th>181</th>\n",
              "      <th>182</th>\n",
              "      <th>183</th>\n",
              "      <th>184</th>\n",
              "      <th>185</th>\n",
              "      <th>186</th>\n",
              "      <th>187</th>\n",
              "    </tr>\n",
              "  </thead>\n",
              "  <tbody>\n",
              "    <tr>\n",
              "      <th>0</th>\n",
              "      <td>0.977941</td>\n",
              "      <td>0.926471</td>\n",
              "      <td>0.681373</td>\n",
              "      <td>0.245098</td>\n",
              "      <td>0.154412</td>\n",
              "      <td>0.191176</td>\n",
              "      <td>0.151961</td>\n",
              "      <td>0.085784</td>\n",
              "      <td>0.058824</td>\n",
              "      <td>0.049020</td>\n",
              "      <td>...</td>\n",
              "      <td>0.0</td>\n",
              "      <td>0.0</td>\n",
              "      <td>0.0</td>\n",
              "      <td>0.0</td>\n",
              "      <td>0.0</td>\n",
              "      <td>0.0</td>\n",
              "      <td>0.0</td>\n",
              "      <td>0.0</td>\n",
              "      <td>0.0</td>\n",
              "      <td>0.0</td>\n",
              "    </tr>\n",
              "    <tr>\n",
              "      <th>1</th>\n",
              "      <td>0.960114</td>\n",
              "      <td>0.863248</td>\n",
              "      <td>0.461538</td>\n",
              "      <td>0.196581</td>\n",
              "      <td>0.094017</td>\n",
              "      <td>0.125356</td>\n",
              "      <td>0.099715</td>\n",
              "      <td>0.088319</td>\n",
              "      <td>0.074074</td>\n",
              "      <td>0.082621</td>\n",
              "      <td>...</td>\n",
              "      <td>0.0</td>\n",
              "      <td>0.0</td>\n",
              "      <td>0.0</td>\n",
              "      <td>0.0</td>\n",
              "      <td>0.0</td>\n",
              "      <td>0.0</td>\n",
              "      <td>0.0</td>\n",
              "      <td>0.0</td>\n",
              "      <td>0.0</td>\n",
              "      <td>0.0</td>\n",
              "    </tr>\n",
              "    <tr>\n",
              "      <th>2</th>\n",
              "      <td>1.000000</td>\n",
              "      <td>0.659459</td>\n",
              "      <td>0.186486</td>\n",
              "      <td>0.070270</td>\n",
              "      <td>0.070270</td>\n",
              "      <td>0.059459</td>\n",
              "      <td>0.056757</td>\n",
              "      <td>0.043243</td>\n",
              "      <td>0.054054</td>\n",
              "      <td>0.045946</td>\n",
              "      <td>...</td>\n",
              "      <td>0.0</td>\n",
              "      <td>0.0</td>\n",
              "      <td>0.0</td>\n",
              "      <td>0.0</td>\n",
              "      <td>0.0</td>\n",
              "      <td>0.0</td>\n",
              "      <td>0.0</td>\n",
              "      <td>0.0</td>\n",
              "      <td>0.0</td>\n",
              "      <td>0.0</td>\n",
              "    </tr>\n",
              "    <tr>\n",
              "      <th>3</th>\n",
              "      <td>0.925414</td>\n",
              "      <td>0.665746</td>\n",
              "      <td>0.541436</td>\n",
              "      <td>0.276243</td>\n",
              "      <td>0.196133</td>\n",
              "      <td>0.077348</td>\n",
              "      <td>0.071823</td>\n",
              "      <td>0.060773</td>\n",
              "      <td>0.066298</td>\n",
              "      <td>0.058011</td>\n",
              "      <td>...</td>\n",
              "      <td>0.0</td>\n",
              "      <td>0.0</td>\n",
              "      <td>0.0</td>\n",
              "      <td>0.0</td>\n",
              "      <td>0.0</td>\n",
              "      <td>0.0</td>\n",
              "      <td>0.0</td>\n",
              "      <td>0.0</td>\n",
              "      <td>0.0</td>\n",
              "      <td>0.0</td>\n",
              "    </tr>\n",
              "    <tr>\n",
              "      <th>4</th>\n",
              "      <td>0.967136</td>\n",
              "      <td>1.000000</td>\n",
              "      <td>0.830986</td>\n",
              "      <td>0.586854</td>\n",
              "      <td>0.356808</td>\n",
              "      <td>0.248826</td>\n",
              "      <td>0.145540</td>\n",
              "      <td>0.089202</td>\n",
              "      <td>0.117371</td>\n",
              "      <td>0.150235</td>\n",
              "      <td>...</td>\n",
              "      <td>0.0</td>\n",
              "      <td>0.0</td>\n",
              "      <td>0.0</td>\n",
              "      <td>0.0</td>\n",
              "      <td>0.0</td>\n",
              "      <td>0.0</td>\n",
              "      <td>0.0</td>\n",
              "      <td>0.0</td>\n",
              "      <td>0.0</td>\n",
              "      <td>0.0</td>\n",
              "    </tr>\n",
              "  </tbody>\n",
              "</table>\n",
              "<p>5 rows × 188 columns</p>\n",
              "</div>\n",
              "      <button class=\"colab-df-convert\" onclick=\"convertToInteractive('df-663c8761-e881-4d6f-9ff6-2c2e327de6bf')\"\n",
              "              title=\"Convert this dataframe to an interactive table.\"\n",
              "              style=\"display:none;\">\n",
              "        \n",
              "  <svg xmlns=\"http://www.w3.org/2000/svg\" height=\"24px\"viewBox=\"0 0 24 24\"\n",
              "       width=\"24px\">\n",
              "    <path d=\"M0 0h24v24H0V0z\" fill=\"none\"/>\n",
              "    <path d=\"M18.56 5.44l.94 2.06.94-2.06 2.06-.94-2.06-.94-.94-2.06-.94 2.06-2.06.94zm-11 1L8.5 8.5l.94-2.06 2.06-.94-2.06-.94L8.5 2.5l-.94 2.06-2.06.94zm10 10l.94 2.06.94-2.06 2.06-.94-2.06-.94-.94-2.06-.94 2.06-2.06.94z\"/><path d=\"M17.41 7.96l-1.37-1.37c-.4-.4-.92-.59-1.43-.59-.52 0-1.04.2-1.43.59L10.3 9.45l-7.72 7.72c-.78.78-.78 2.05 0 2.83L4 21.41c.39.39.9.59 1.41.59.51 0 1.02-.2 1.41-.59l7.78-7.78 2.81-2.81c.8-.78.8-2.07 0-2.86zM5.41 20L4 18.59l7.72-7.72 1.47 1.35L5.41 20z\"/>\n",
              "  </svg>\n",
              "      </button>\n",
              "      \n",
              "  <style>\n",
              "    .colab-df-container {\n",
              "      display:flex;\n",
              "      flex-wrap:wrap;\n",
              "      gap: 12px;\n",
              "    }\n",
              "\n",
              "    .colab-df-convert {\n",
              "      background-color: #E8F0FE;\n",
              "      border: none;\n",
              "      border-radius: 50%;\n",
              "      cursor: pointer;\n",
              "      display: none;\n",
              "      fill: #1967D2;\n",
              "      height: 32px;\n",
              "      padding: 0 0 0 0;\n",
              "      width: 32px;\n",
              "    }\n",
              "\n",
              "    .colab-df-convert:hover {\n",
              "      background-color: #E2EBFA;\n",
              "      box-shadow: 0px 1px 2px rgba(60, 64, 67, 0.3), 0px 1px 3px 1px rgba(60, 64, 67, 0.15);\n",
              "      fill: #174EA6;\n",
              "    }\n",
              "\n",
              "    [theme=dark] .colab-df-convert {\n",
              "      background-color: #3B4455;\n",
              "      fill: #D2E3FC;\n",
              "    }\n",
              "\n",
              "    [theme=dark] .colab-df-convert:hover {\n",
              "      background-color: #434B5C;\n",
              "      box-shadow: 0px 1px 3px 1px rgba(0, 0, 0, 0.15);\n",
              "      filter: drop-shadow(0px 1px 2px rgba(0, 0, 0, 0.3));\n",
              "      fill: #FFFFFF;\n",
              "    }\n",
              "  </style>\n",
              "\n",
              "      <script>\n",
              "        const buttonEl =\n",
              "          document.querySelector('#df-663c8761-e881-4d6f-9ff6-2c2e327de6bf button.colab-df-convert');\n",
              "        buttonEl.style.display =\n",
              "          google.colab.kernel.accessAllowed ? 'block' : 'none';\n",
              "\n",
              "        async function convertToInteractive(key) {\n",
              "          const element = document.querySelector('#df-663c8761-e881-4d6f-9ff6-2c2e327de6bf');\n",
              "          const dataTable =\n",
              "            await google.colab.kernel.invokeFunction('convertToInteractive',\n",
              "                                                     [key], {});\n",
              "          if (!dataTable) return;\n",
              "\n",
              "          const docLinkHtml = 'Like what you see? Visit the ' +\n",
              "            '<a target=\"_blank\" href=https://colab.research.google.com/notebooks/data_table.ipynb>data table notebook</a>'\n",
              "            + ' to learn more about interactive tables.';\n",
              "          element.innerHTML = '';\n",
              "          dataTable['output_type'] = 'display_data';\n",
              "          await google.colab.output.renderOutput(dataTable, element);\n",
              "          const docLink = document.createElement('div');\n",
              "          docLink.innerHTML = docLinkHtml;\n",
              "          element.appendChild(docLink);\n",
              "        }\n",
              "      </script>\n",
              "    </div>\n",
              "  </div>\n",
              "  "
            ]
          },
          "metadata": {},
          "execution_count": 41
        }
      ]
    },
    {
      "cell_type": "code",
      "source": [
        "len(data)"
      ],
      "metadata": {
        "colab": {
          "base_uri": "https://localhost:8080/"
        },
        "id": "UJ1MYdl_Ezip",
        "outputId": "28ef1464-5ccd-42b8-a779-e2d4105c9abf"
      },
      "execution_count": 42,
      "outputs": [
        {
          "output_type": "execute_result",
          "data": {
            "text/plain": [
              "87554"
            ]
          },
          "metadata": {},
          "execution_count": 42
        }
      ]
    },
    {
      "cell_type": "code",
      "source": [
        "#Plot the heartbeat of one patient.\n"
      ],
      "metadata": {
        "id": "NhAMqovpAsOR"
      },
      "execution_count": 43,
      "outputs": []
    },
    {
      "cell_type": "code",
      "source": [
        "# Check the class distribution. (Hint: Use .value_counts attribute and \n",
        "# remember that the labels are at the last column of the dataframe)\n",
        "data[187].value_counts()"
      ],
      "metadata": {
        "colab": {
          "base_uri": "https://localhost:8080/"
        },
        "id": "XJiGF0fqD5To",
        "outputId": "4e7ee4b2-a205-4918-b2be-03f904762bd8"
      },
      "execution_count": 44,
      "outputs": [
        {
          "output_type": "execute_result",
          "data": {
            "text/plain": [
              "0.0    72471\n",
              "4.0     6431\n",
              "2.0     5788\n",
              "1.0     2223\n",
              "3.0      641\n",
              "Name: 187, dtype: int64"
            ]
          },
          "metadata": {},
          "execution_count": 44
        }
      ]
    },
    {
      "cell_type": "code",
      "source": [
        "# Bar plot\n",
        "data[187].value_counts().sort_values().plot(kind = 'barh')"
      ],
      "metadata": {
        "colab": {
          "base_uri": "https://localhost:8080/",
          "height": 282
        },
        "id": "u5PxgXSOGfbg",
        "outputId": "1f0c0303-25e9-4165-9a07-b8d0460eacba"
      },
      "execution_count": 45,
      "outputs": [
        {
          "output_type": "execute_result",
          "data": {
            "text/plain": [
              "<matplotlib.axes._subplots.AxesSubplot at 0x7fb16bf4cb90>"
            ]
          },
          "metadata": {},
          "execution_count": 45
        },
        {
          "output_type": "display_data",
          "data": {
            "text/plain": [
              "<Figure size 432x288 with 1 Axes>"
            ],
            "image/png": "[encoded data removed]"
          },
          "metadata": {
            "needs_background": "light"
          }
        }
      ]
    },
    {
      "cell_type": "code",
      "source": [
        "# You should see that class 0 has more than 5 times as many instances as all other classes combined.\n",
        "# Make the dataset more balanced by sampling the instances with class 0.\n",
        "# Filter all the data that don't have class 0 to a new dataframe.\n",
        "data_NOTclass0 = data[data[187] != 0].reset_index(drop=True)"
      ],
      "metadata": {
        "id": "uD4_fpQHFlye"
      },
      "execution_count": 46,
      "outputs": []
    },
    {
      "cell_type": "code",
      "source": [
        "# From all the data that has class 0 (again use filtering), sample 8000 instances and save it to a new dataframe. \n",
        "#(Hint: Use .sample attribute)\n",
        "data_class0 = data[data[187] == 0].sample(n=8000).reset_index(drop=True)"
      ],
      "metadata": {
        "id": "7fJKAPVYFltF"
      },
      "execution_count": 47,
      "outputs": []
    },
    {
      "cell_type": "code",
      "source": [
        "# Concatenate the two new dataframes.\n",
        "data_final = pd.concat([data_class0, data_NOTclass0]).reset_index(drop=True)\n",
        "data_final.head()"
      ],
      "metadata": {
        "colab": {
          "base_uri": "https://localhost:8080/",
          "height": 297
        },
        "id": "ZEtFjZ2tFlkH",
        "outputId": "68b2addc-ae4b-4300-c55e-9042a6007317"
      },
      "execution_count": 48,
      "outputs": [
        {
          "output_type": "execute_result",
          "data": {
            "text/plain": [
              "        0         1         2         3         4         5         6    \\\n",
              "0  1.000000  0.528610  0.367847  0.209809  0.128065  0.079019  0.051771   \n",
              "1  1.000000  0.956608  0.731755  0.538462  0.293886  0.124260  0.003945   \n",
              "2  0.927419  0.780242  0.548387  0.308468  0.104839  0.040323  0.060484   \n",
              "3  0.987097  0.982258  0.435484  0.014516  0.246774  0.324194  0.314516   \n",
              "4  1.000000  0.630170  0.051095  0.043796  0.046229  0.070560  0.060827   \n",
              "\n",
              "        7         8         9    ...  178  179  180  181  182  183  184  185  \\\n",
              "0  0.051771  0.040872  0.051771  ...  0.0  0.0  0.0  0.0  0.0  0.0  0.0  0.0   \n",
              "1  0.000000  0.003945  0.041420  ...  0.0  0.0  0.0  0.0  0.0  0.0  0.0  0.0   \n",
              "2  0.084677  0.098790  0.096774  ...  0.0  0.0  0.0  0.0  0.0  0.0  0.0  0.0   \n",
              "3  0.337097  0.343548  0.337097  ...  0.0  0.0  0.0  0.0  0.0  0.0  0.0  0.0   \n",
              "4  0.063260  0.068127  0.072993  ...  0.0  0.0  0.0  0.0  0.0  0.0  0.0  0.0   \n",
              "\n",
              "   186  187  \n",
              "0  0.0  0.0  \n",
              "1  0.0  0.0  \n",
              "2  0.0  0.0  \n",
              "3  0.0  0.0  \n",
              "4  0.0  0.0  \n",
              "\n",
              "[5 rows x 188 columns]"
            ],
            "text/html": [
              "\n",
              "  <div id=\"df-964b9440-50d5-43bd-9639-19ad0ec3aa12\">\n",
              "    <div class=\"colab-df-container\">\n",
              "      <div>\n",
              "<style scoped>\n",
              "    .dataframe tbody tr th:only-of-type {\n",
              "        vertical-align: middle;\n",
              "    }\n",
              "\n",
              "    .dataframe tbody tr th {\n",
              "        vertical-align: top;\n",
              "    }\n",
              "\n",
              "    .dataframe thead th {\n",
              "        text-align: right;\n",
              "    }\n",
              "</style>\n",
              "<table border=\"1\" class=\"dataframe\">\n",
              "  <thead>\n",
              "    <tr style=\"text-align: right;\">\n",
              "      <th></th>\n",
              "      <th>0</th>\n",
              "      <th>1</th>\n",
              "      <th>2</th>\n",
              "      <th>3</th>\n",
              "      <th>4</th>\n",
              "      <th>5</th>\n",
              "      <th>6</th>\n",
              "      <th>7</th>\n",
              "      <th>8</th>\n",
              "      <th>9</th>\n",
              "      <th>...</th>\n",
              "      <th>178</th>\n",
              "      <th>179</th>\n",
              "      <th>180</th>\n",
              "      <th>181</th>\n",
              "      <th>182</th>\n",
              "      <th>183</th>\n",
              "      <th>184</th>\n",
              "      <th>185</th>\n",
              "      <th>186</th>\n",
              "      <th>187</th>\n",
              "    </tr>\n",
              "  </thead>\n",
              "  <tbody>\n",
              "    <tr>\n",
              "      <th>0</th>\n",
              "      <td>1.000000</td>\n",
              "      <td>0.528610</td>\n",
              "      <td>0.367847</td>\n",
              "      <td>0.209809</td>\n",
              "      <td>0.128065</td>\n",
              "      <td>0.079019</td>\n",
              "      <td>0.051771</td>\n",
              "      <td>0.051771</td>\n",
              "      <td>0.040872</td>\n",
              "      <td>0.051771</td>\n",
              "      <td>...</td>\n",
              "      <td>0.0</td>\n",
              "      <td>0.0</td>\n",
              "      <td>0.0</td>\n",
              "      <td>0.0</td>\n",
              "      <td>0.0</td>\n",
              "      <td>0.0</td>\n",
              "      <td>0.0</td>\n",
              "      <td>0.0</td>\n",
              "      <td>0.0</td>\n",
              "      <td>0.0</td>\n",
              "    </tr>\n",
              "    <tr>\n",
              "      <th>1</th>\n",
              "      <td>1.000000</td>\n",
              "      <td>0.956608</td>\n",
              "      <td>0.731755</td>\n",
              "      <td>0.538462</td>\n",
              "      <td>0.293886</td>\n",
              "      <td>0.124260</td>\n",
              "      <td>0.003945</td>\n",
              "      <td>0.000000</td>\n",
              "      <td>0.003945</td>\n",
              "      <td>0.041420</td>\n",
              "      <td>...</td>\n",
              "      <td>0.0</td>\n",
              "      <td>0.0</td>\n",
              "      <td>0.0</td>\n",
              "      <td>0.0</td>\n",
              "      <td>0.0</td>\n",
              "      <td>0.0</td>\n",
              "      <td>0.0</td>\n",
              "      <td>0.0</td>\n",
              "      <td>0.0</td>\n",
              "      <td>0.0</td>\n",
              "    </tr>\n",
              "    <tr>\n",
              "      <th>2</th>\n",
              "      <td>0.927419</td>\n",
              "      <td>0.780242</td>\n",
              "      <td>0.548387</td>\n",
              "      <td>0.308468</td>\n",
              "      <td>0.104839</td>\n",
              "      <td>0.040323</td>\n",
              "      <td>0.060484</td>\n",
              "      <td>0.084677</td>\n",
              "      <td>0.098790</td>\n",
              "      <td>0.096774</td>\n",
              "      <td>...</td>\n",
              "      <td>0.0</td>\n",
              "      <td>0.0</td>\n",
              "      <td>0.0</td>\n",
              "      <td>0.0</td>\n",
              "      <td>0.0</td>\n",
              "      <td>0.0</td>\n",
              "      <td>0.0</td>\n",
              "      <td>0.0</td>\n",
              "      <td>0.0</td>\n",
              "      <td>0.0</td>\n",
              "    </tr>\n",
              "    <tr>\n",
              "      <th>3</th>\n",
              "      <td>0.987097</td>\n",
              "      <td>0.982258</td>\n",
              "      <td>0.435484</td>\n",
              "      <td>0.014516</td>\n",
              "      <td>0.246774</td>\n",
              "      <td>0.324194</td>\n",
              "      <td>0.314516</td>\n",
              "      <td>0.337097</td>\n",
              "      <td>0.343548</td>\n",
              "      <td>0.337097</td>\n",
              "      <td>...</td>\n",
              "      <td>0.0</td>\n",
              "      <td>0.0</td>\n",
              "      <td>0.0</td>\n",
              "      <td>0.0</td>\n",
              "      <td>0.0</td>\n",
              "      <td>0.0</td>\n",
              "      <td>0.0</td>\n",
              "      <td>0.0</td>\n",
              "      <td>0.0</td>\n",
              "      <td>0.0</td>\n",
              "    </tr>\n",
              "    <tr>\n",
              "      <th>4</th>\n",
              "      <td>1.000000</td>\n",
              "      <td>0.630170</td>\n",
              "      <td>0.051095</td>\n",
              "      <td>0.043796</td>\n",
              "      <td>0.046229</td>\n",
              "      <td>0.070560</td>\n",
              "      <td>0.060827</td>\n",
              "      <td>0.063260</td>\n",
              "      <td>0.068127</td>\n",
              "      <td>0.072993</td>\n",
              "      <td>...</td>\n",
              "      <td>0.0</td>\n",
              "      <td>0.0</td>\n",
              "      <td>0.0</td>\n",
              "      <td>0.0</td>\n",
              "      <td>0.0</td>\n",
              "      <td>0.0</td>\n",
              "      <td>0.0</td>\n",
              "      <td>0.0</td>\n",
              "      <td>0.0</td>\n",
              "      <td>0.0</td>\n",
              "    </tr>\n",
              "  </tbody>\n",
              "</table>\n",
              "<p>5 rows × 188 columns</p>\n",
              "</div>\n",
              "      <button class=\"colab-df-convert\" onclick=\"convertToInteractive('df-964b9440-50d5-43bd-9639-19ad0ec3aa12')\"\n",
              "              title=\"Convert this dataframe to an interactive table.\"\n",
              "              style=\"display:none;\">\n",
              "        \n",
              "  <svg xmlns=\"http://www.w3.org/2000/svg\" height=\"24px\"viewBox=\"0 0 24 24\"\n",
              "       width=\"24px\">\n",
              "    <path d=\"M0 0h24v24H0V0z\" fill=\"none\"/>\n",
              "    <path d=\"M18.56 5.44l.94 2.06.94-2.06 2.06-.94-2.06-.94-.94-2.06-.94 2.06-2.06.94zm-11 1L8.5 8.5l.94-2.06 2.06-.94-2.06-.94L8.5 2.5l-.94 2.06-2.06.94zm10 10l.94 2.06.94-2.06 2.06-.94-2.06-.94-.94-2.06-.94 2.06-2.06.94z\"/><path d=\"M17.41 7.96l-1.37-1.37c-.4-.4-.92-.59-1.43-.59-.52 0-1.04.2-1.43.59L10.3 9.45l-7.72 7.72c-.78.78-.78 2.05 0 2.83L4 21.41c.39.39.9.59 1.41.59.51 0 1.02-.2 1.41-.59l7.78-7.78 2.81-2.81c.8-.78.8-2.07 0-2.86zM5.41 20L4 18.59l7.72-7.72 1.47 1.35L5.41 20z\"/>\n",
              "  </svg>\n",
              "      </button>\n",
              "      \n",
              "  <style>\n",
              "    .colab-df-container {\n",
              "      display:flex;\n",
              "      flex-wrap:wrap;\n",
              "      gap: 12px;\n",
              "    }\n",
              "\n",
              "    .colab-df-convert {\n",
              "      background-color: #E8F0FE;\n",
              "      border: none;\n",
              "      border-radius: 50%;\n",
              "      cursor: pointer;\n",
              "      display: none;\n",
              "      fill: #1967D2;\n",
              "      height: 32px;\n",
              "      padding: 0 0 0 0;\n",
              "      width: 32px;\n",
              "    }\n",
              "\n",
              "    .colab-df-convert:hover {\n",
              "      background-color: #E2EBFA;\n",
              "      box-shadow: 0px 1px 2px rgba(60, 64, 67, 0.3), 0px 1px 3px 1px rgba(60, 64, 67, 0.15);\n",
              "      fill: #174EA6;\n",
              "    }\n",
              "\n",
              "    [theme=dark] .colab-df-convert {\n",
              "      background-color: #3B4455;\n",
              "      fill: #D2E3FC;\n",
              "    }\n",
              "\n",
              "    [theme=dark] .colab-df-convert:hover {\n",
              "      background-color: #434B5C;\n",
              "      box-shadow: 0px 1px 3px 1px rgba(0, 0, 0, 0.15);\n",
              "      filter: drop-shadow(0px 1px 2px rgba(0, 0, 0, 0.3));\n",
              "      fill: #FFFFFF;\n",
              "    }\n",
              "  </style>\n",
              "\n",
              "      <script>\n",
              "        const buttonEl =\n",
              "          document.querySelector('#df-964b9440-50d5-43bd-9639-19ad0ec3aa12 button.colab-df-convert');\n",
              "        buttonEl.style.display =\n",
              "          google.colab.kernel.accessAllowed ? 'block' : 'none';\n",
              "\n",
              "        async function convertToInteractive(key) {\n",
              "          const element = document.querySelector('#df-964b9440-50d5-43bd-9639-19ad0ec3aa12');\n",
              "          const dataTable =\n",
              "            await google.colab.kernel.invokeFunction('convertToInteractive',\n",
              "                                                     [key], {});\n",
              "          if (!dataTable) return;\n",
              "\n",
              "          const docLinkHtml = 'Like what you see? Visit the ' +\n",
              "            '<a target=\"_blank\" href=https://colab.research.google.com/notebooks/data_table.ipynb>data table notebook</a>'\n",
              "            + ' to learn more about interactive tables.';\n",
              "          element.innerHTML = '';\n",
              "          dataTable['output_type'] = 'display_data';\n",
              "          await google.colab.output.renderOutput(dataTable, element);\n",
              "          const docLink = document.createElement('div');\n",
              "          docLink.innerHTML = docLinkHtml;\n",
              "          element.appendChild(docLink);\n",
              "        }\n",
              "      </script>\n",
              "    </div>\n",
              "  </div>\n",
              "  "
            ]
          },
          "metadata": {},
          "execution_count": 48
        }
      ]
    },
    {
      "cell_type": "code",
      "source": [
        "# Check the new class distribution.\n",
        "data_final[187].value_counts()"
      ],
      "metadata": {
        "colab": {
          "base_uri": "https://localhost:8080/"
        },
        "id": "utyY023jHKls",
        "outputId": "3f01764c-0cdf-4f4f-88b6-aeec8d8b5977"
      },
      "execution_count": 49,
      "outputs": [
        {
          "output_type": "execute_result",
          "data": {
            "text/plain": [
              "0.0    8000\n",
              "4.0    6431\n",
              "2.0    5788\n",
              "1.0    2223\n",
              "3.0     641\n",
              "Name: 187, dtype: int64"
            ]
          },
          "metadata": {},
          "execution_count": 49
        }
      ]
    },
    {
      "cell_type": "code",
      "source": [
        "# Finally, separate the features and the labels into X and y variables.\n",
        "X = data_final.iloc[:,:187]\n",
        "y = data_final.iloc[:,187]"
      ],
      "metadata": {
        "id": "tSHQwMP5HKi-"
      },
      "execution_count": 50,
      "outputs": []
    },
    {
      "cell_type": "markdown",
      "metadata": {
        "id": "rNdSTzRUAAG8"
      },
      "source": [
        "### Split the data into training and test sets. Use a 90-10 split ratio."
      ]
    },
    {
      "cell_type": "code",
      "execution_count": 51,
      "metadata": {
        "id": "ltWxDhH7AAG8"
      },
      "outputs": [],
      "source": [
        "#Create the training and test sets.\n",
        "X_train, X_test, y_train, y_test = train_test_split(X, y, random_state=42, test_size=0.1)\n",
        "\n",
        "#Convert the sets into NumPy arrays (Necessary for Keras models)\n",
        "X_train = np.array(X_train)\n",
        "X_test = np.array(X_test)\n",
        "y_train = np.array(y_train)\n",
        "y_test = np.array(y_test)"
      ]
    },
    {
      "cell_type": "code",
      "source": [
        "# Transform the target values\n",
        "y_train_target = to_categorical(y_train)\n",
        "y_test_target = to_categorical(y_test)"
      ],
      "metadata": {
        "id": "K5Eg94vdKhle"
      },
      "execution_count": 52,
      "outputs": []
    },
    {
      "cell_type": "markdown",
      "metadata": {
        "id": "i_64VQqnAAG9"
      },
      "source": [
        "### Create a feed-forward neural network with 5 layers. (One input, three hidden, one output) (20 points)"
      ]
    },
    {
      "cell_type": "code",
      "execution_count": 53,
      "metadata": {
        "id": "e_40BHrtAAG9"
      },
      "outputs": [],
      "source": [
        "# Create the network using the Keras layers. (Use 512, 100 and 20 nodes for the hidden layers.)\n",
        "model = Sequential()\n",
        "#first hidden layer\n",
        "model.add(Dense(512, activation='relu', kernel_initializer='glorot_uniform'))\n",
        "\n",
        "#second hidden layer\n",
        "model.add(Dense(100, activation='relu', kernel_initializer='glorot_uniform'))\n",
        "\n",
        "#Third hidden layer\n",
        "model.add(Dense(20, activation='relu', kernel_initializer='glorot_uniform'))\n",
        "\n",
        "#Output layer (Multi-class classification)\n",
        "model.add(Dense(5, activation='softmax', kernel_initializer='glorot_uniform'))"
      ]
    },
    {
      "cell_type": "code",
      "source": [
        "#Use val data to early stop\n",
        "early_stop = EarlyStopping(monitor='val_loss', patience=5)"
      ],
      "metadata": {
        "id": "Pjpcwh2yJnWa"
      },
      "execution_count": 54,
      "outputs": []
    },
    {
      "cell_type": "code",
      "source": [
        "# Compile and train the network. (Do not forget to expand the training labels into multiple columns.)\n",
        "model.compile(optimizer='adam', loss='categorical_crossentropy', metrics=['accuracy'])\n"
      ],
      "metadata": {
        "id": "mpiSiDwbJUZ7"
      },
      "execution_count": 55,
      "outputs": []
    },
    {
      "cell_type": "code",
      "source": [
        "#Train the network\n",
        "history = model.fit(X_train, y_train_target, validation_split=0.1, epochs=500, callbacks=[early_stop])"
      ],
      "metadata": {
        "colab": {
          "base_uri": "https://localhost:8080/"
        },
        "id": "jwcVCLEcLADr",
        "outputId": "9501e939-dac0-400a-9fb2-148446c64761"
      },
      "execution_count": 56,
      "outputs": [
        {
          "output_type": "stream",
          "name": "stdout",
          "text": [
            "Epoch 1/500\n",
            "585/585 [==============================] - 5s 7ms/step - loss: 0.5290 - accuracy: 0.8121 - val_loss: 0.3920 - val_accuracy: 0.8600\n",
            "Epoch 2/500\n",
            "585/585 [==============================] - 4s 8ms/step - loss: 0.3269 - accuracy: 0.8858 - val_loss: 0.3177 - val_accuracy: 0.8912\n",
            "Epoch 3/500\n",
            "585/585 [==============================] - 4s 7ms/step - loss: 0.2754 - accuracy: 0.9052 - val_loss: 0.2737 - val_accuracy: 0.9052\n",
            "Epoch 4/500\n",
            "585/585 [==============================] - 4s 7ms/step - loss: 0.2382 - accuracy: 0.9166 - val_loss: 0.2410 - val_accuracy: 0.9167\n",
            "Epoch 5/500\n",
            "585/585 [==============================] - 5s 8ms/step - loss: 0.2134 - accuracy: 0.9245 - val_loss: 0.2278 - val_accuracy: 0.9240\n",
            "Epoch 6/500\n",
            "585/585 [==============================] - 4s 7ms/step - loss: 0.1939 - accuracy: 0.9335 - val_loss: 0.2157 - val_accuracy: 0.9273\n",
            "Epoch 7/500\n",
            "585/585 [==============================] - 4s 7ms/step - loss: 0.1764 - accuracy: 0.9387 - val_loss: 0.2219 - val_accuracy: 0.9269\n",
            "Epoch 8/500\n",
            "585/585 [==============================] - 2s 4ms/step - loss: 0.1656 - accuracy: 0.9426 - val_loss: 0.2268 - val_accuracy: 0.9230\n",
            "Epoch 9/500\n",
            "585/585 [==============================] - 2s 4ms/step - loss: 0.1533 - accuracy: 0.9467 - val_loss: 0.2163 - val_accuracy: 0.9278\n",
            "Epoch 10/500\n",
            "585/585 [==============================] - 2s 4ms/step - loss: 0.1455 - accuracy: 0.9484 - val_loss: 0.2058 - val_accuracy: 0.9317\n",
            "Epoch 11/500\n",
            "585/585 [==============================] - 2s 3ms/step - loss: 0.1405 - accuracy: 0.9503 - val_loss: 0.2097 - val_accuracy: 0.9293\n",
            "Epoch 12/500\n",
            "585/585 [==============================] - 2s 4ms/step - loss: 0.1283 - accuracy: 0.9554 - val_loss: 0.2009 - val_accuracy: 0.9365\n",
            "Epoch 13/500\n",
            "585/585 [==============================] - 2s 4ms/step - loss: 0.1226 - accuracy: 0.9580 - val_loss: 0.1992 - val_accuracy: 0.9346\n",
            "Epoch 14/500\n",
            "585/585 [==============================] - 2s 4ms/step - loss: 0.1129 - accuracy: 0.9612 - val_loss: 0.1927 - val_accuracy: 0.9389\n",
            "Epoch 15/500\n",
            "585/585 [==============================] - 2s 3ms/step - loss: 0.1074 - accuracy: 0.9620 - val_loss: 0.2085 - val_accuracy: 0.9379\n",
            "Epoch 16/500\n",
            "585/585 [==============================] - 2s 4ms/step - loss: 0.1043 - accuracy: 0.9634 - val_loss: 0.2128 - val_accuracy: 0.9398\n",
            "Epoch 17/500\n",
            "585/585 [==============================] - 2s 4ms/step - loss: 0.1000 - accuracy: 0.9640 - val_loss: 0.1785 - val_accuracy: 0.9437\n",
            "Epoch 18/500\n",
            "585/585 [==============================] - 2s 3ms/step - loss: 0.0933 - accuracy: 0.9672 - val_loss: 0.2228 - val_accuracy: 0.9374\n",
            "Epoch 19/500\n",
            "585/585 [==============================] - 2s 3ms/step - loss: 0.0891 - accuracy: 0.9685 - val_loss: 0.1941 - val_accuracy: 0.9384\n",
            "Epoch 20/500\n",
            "585/585 [==============================] - 2s 3ms/step - loss: 0.0855 - accuracy: 0.9687 - val_loss: 0.1943 - val_accuracy: 0.9418\n",
            "Epoch 21/500\n",
            "585/585 [==============================] - 2s 4ms/step - loss: 0.0812 - accuracy: 0.9708 - val_loss: 0.1950 - val_accuracy: 0.9423\n",
            "Epoch 22/500\n",
            "585/585 [==============================] - 2s 4ms/step - loss: 0.0765 - accuracy: 0.9718 - val_loss: 0.1848 - val_accuracy: 0.9451\n"
          ]
        }
      ]
    },
    {
      "cell_type": "markdown",
      "metadata": {
        "id": "jPT-SBCeAAG9"
      },
      "source": [
        "### Evaluate your neural network with the test data. You need to achieve 90+% test accuracy for full credit. (5 points)"
      ]
    },
    {
      "cell_type": "code",
      "execution_count": 57,
      "metadata": {
        "colab": {
          "base_uri": "https://localhost:8080/"
        },
        "id": "hXr1oZpsAAG-",
        "outputId": "abb4dbaa-8687-4680-a745-7eb05ee09299"
      },
      "outputs": [
        {
          "output_type": "stream",
          "name": "stdout",
          "text": [
            "73/73 [==============================] - 0s 3ms/step - loss: 0.1796 - accuracy: 0.9467\n",
            "[0.17963439226150513, 0.9467301964759827]\n",
            "0.9467301862278042\n",
            "[[777  35   8  11   8]\n",
            " [ 21 186   2   1   0]\n",
            " [ 14   1 544   9   2]\n",
            " [  1   0   1  51   0]\n",
            " [  3   2   2   2 628]]\n"
          ]
        }
      ],
      "source": [
        "# Get the predictions and convert the multicolumn array into class predictions.\n",
        "#Evaluate the network\n",
        "print(model.evaluate(X_test, y_test_target))\n",
        "y_pred = np.argmax(model.predict(X_test), axis=1)\n",
        "\n",
        "# Plot the confusion matrix and print the final accuracy.\n",
        "print(accuracy_score(y_pred, y_test))\n",
        "print(confusion_matrix(y_pred, y_test))"
      ]
    },
    {
      "cell_type": "markdown",
      "metadata": {
        "id": "GtiXz2KjAAG-"
      },
      "source": [
        "### After the feed-forward neural network, train a convolutional neural network (CNN) on the same data. (20 points)"
      ]
    },
    {
      "cell_type": "code",
      "source": [
        "#Add a dimension to each sequence\n",
        "X_train = np.array(X_train).reshape(X_train.shape[0], X_train.shape[1], 1)\n",
        "X_test = np.array(X_test).reshape(X_test.shape[0], X_test.shape[1], 1)"
      ],
      "metadata": {
        "id": "fsEgLFs5PNs8"
      },
      "execution_count": 58,
      "outputs": []
    },
    {
      "cell_type": "code",
      "source": [
        "X_train.shape"
      ],
      "metadata": {
        "colab": {
          "base_uri": "https://localhost:8080/"
        },
        "id": "T0sWuF1mQbOE",
        "outputId": "11e0e7f0-b39b-4f3c-f47c-8ad91b0d2bdb"
      },
      "execution_count": 59,
      "outputs": [
        {
          "output_type": "execute_result",
          "data": {
            "text/plain": [
              "(20774, 187, 1)"
            ]
          },
          "metadata": {},
          "execution_count": 59
        }
      ]
    },
    {
      "cell_type": "code",
      "source": [
        "from tensorflow.keras.layers import Conv1D, MaxPool1D, BatchNormalization\n",
        "\n",
        "model_cnn = Sequential()\n",
        "\n",
        "model_cnn.add(Conv1D(filters=32, kernel_size=2, activation='relu',input_shape=(187,1)))\n",
        "model_cnn.add(BatchNormalization())\n",
        "model_cnn.add(Dropout(0.2))\n",
        "\n",
        "model_cnn.add(Conv1D(filters=32, kernel_size=2, activation='relu'))\n",
        "model_cnn.add(BatchNormalization())\n",
        "model_cnn.add(Dropout(0.2))\n",
        "\n",
        "model_cnn.add(Conv1D(filters=32, kernel_size=2, activation='relu'))\n",
        "model_cnn.add(BatchNormalization())\n",
        "model_cnn.add(Dropout(0.2))\n",
        "\n",
        "model_cnn.add(Conv1D(filters=32, kernel_size=2, activation='relu'))\n",
        "model_cnn.add(BatchNormalization())\n",
        "model_cnn.add(Dropout(0.5))\n",
        "\n",
        "model_cnn.add(Flatten())\n",
        "\n",
        "model_cnn.add(Dense(activation='relu', units=512))\n",
        "\n",
        "model_cnn.add(Dense(activation='relu', units=100))\n",
        "\n",
        "model_cnn.add(Dense(activation='relu', units=20))\n",
        "\n",
        "model_cnn.add(Dense(activation='softmax', units=5))\n"
      ],
      "metadata": {
        "id": "OamXSt_WQR9V"
      },
      "execution_count": 60,
      "outputs": []
    },
    {
      "cell_type": "code",
      "source": [
        "# Compile and train the network.\n",
        "\n",
        "model_cnn.compile(optimizer='adam', loss='categorical_crossentropy', metrics = ['accuracy'])\n",
        "\n",
        "model_cnn.summary()\n",
        "\n",
        "early = EarlyStopping(monitor='val_loss', patience=5)\n",
        "\n",
        "model_cnn.fit(X_train, y_train_target, epochs=20, validation_split=0.1, callbacks=early)"
      ],
      "metadata": {
        "colab": {
          "base_uri": "https://localhost:8080/"
        },
        "id": "K2M1LQe9NxC7",
        "outputId": "3771875f-5724-410d-bd6a-d5f6caa32413"
      },
      "execution_count": 62,
      "outputs": [
        {
          "output_type": "stream",
          "name": "stdout",
          "text": [
            "Model: \"sequential_7\"\n",
            "_________________________________________________________________\n",
            " Layer (type)                Output Shape              Param #   \n",
            "=================================================================\n",
            " conv1d_21 (Conv1D)          (None, 186, 32)           96        \n",
            "                                                                 \n",
            " batch_normalization_21 (Bat  (None, 186, 32)          128       \n",
            " chNormalization)                                                \n",
            "                                                                 \n",
            " dropout_13 (Dropout)        (None, 186, 32)           0         \n",
            "                                                                 \n",
            " conv1d_22 (Conv1D)          (None, 185, 32)           2080      \n",
            "                                                                 \n",
            " batch_normalization_22 (Bat  (None, 185, 32)          128       \n",
            " chNormalization)                                                \n",
            "                                                                 \n",
            " dropout_14 (Dropout)        (None, 185, 32)           0         \n",
            "                                                                 \n",
            " conv1d_23 (Conv1D)          (None, 184, 32)           2080      \n",
            "                                                                 \n",
            " batch_normalization_23 (Bat  (None, 184, 32)          128       \n",
            " chNormalization)                                                \n",
            "                                                                 \n",
            " dropout_15 (Dropout)        (None, 184, 32)           0         \n",
            "                                                                 \n",
            " conv1d_24 (Conv1D)          (None, 183, 32)           2080      \n",
            "                                                                 \n",
            " batch_normalization_24 (Bat  (None, 183, 32)          128       \n",
            " chNormalization)                                                \n",
            "                                                                 \n",
            " dropout_16 (Dropout)        (None, 183, 32)           0         \n",
            "                                                                 \n",
            " flatten_5 (Flatten)         (None, 5856)              0         \n",
            "                                                                 \n",
            " dense_28 (Dense)            (None, 512)               2998784   \n",
            "                                                                 \n",
            " dense_29 (Dense)            (None, 100)               51300     \n",
            "                                                                 \n",
            " dense_30 (Dense)            (None, 20)                2020      \n",
            "                                                                 \n",
            " dense_31 (Dense)            (None, 5)                 105       \n",
            "                                                                 \n",
            "=================================================================\n",
            "Total params: 3,059,057\n",
            "Trainable params: 3,058,801\n",
            "Non-trainable params: 256\n",
            "_________________________________________________________________\n",
            "Epoch 1/20\n",
            "585/585 [==============================] - 54s 85ms/step - loss: 0.2070 - accuracy: 0.9292 - val_loss: 0.2625 - val_accuracy: 0.9220\n",
            "Epoch 2/20\n",
            "585/585 [==============================] - 41s 70ms/step - loss: 0.1658 - accuracy: 0.9430 - val_loss: 0.1750 - val_accuracy: 0.9427\n",
            "Epoch 3/20\n",
            "585/585 [==============================] - 41s 69ms/step - loss: 0.1443 - accuracy: 0.9505 - val_loss: 0.2565 - val_accuracy: 0.9230\n",
            "Epoch 4/20\n",
            "585/585 [==============================] - 41s 69ms/step - loss: 0.1151 - accuracy: 0.9606 - val_loss: 0.9131 - val_accuracy: 0.7950\n",
            "Epoch 5/20\n",
            "585/585 [==============================] - 41s 70ms/step - loss: 0.1073 - accuracy: 0.9641 - val_loss: 0.2336 - val_accuracy: 0.9235\n",
            "Epoch 6/20\n",
            "585/585 [==============================] - 41s 70ms/step - loss: 0.1039 - accuracy: 0.9644 - val_loss: 0.1425 - val_accuracy: 0.9581\n",
            "Epoch 7/20\n",
            "585/585 [==============================] - 42s 71ms/step - loss: 0.0862 - accuracy: 0.9694 - val_loss: 0.1477 - val_accuracy: 0.9533\n",
            "Epoch 8/20\n",
            "585/585 [==============================] - 40s 69ms/step - loss: 0.0804 - accuracy: 0.9720 - val_loss: 0.1742 - val_accuracy: 0.9475\n",
            "Epoch 9/20\n",
            "585/585 [==============================] - 41s 70ms/step - loss: 0.0696 - accuracy: 0.9750 - val_loss: 0.1816 - val_accuracy: 0.9514\n",
            "Epoch 10/20\n",
            "585/585 [==============================] - 40s 68ms/step - loss: 0.0659 - accuracy: 0.9768 - val_loss: 0.1510 - val_accuracy: 0.9567\n",
            "Epoch 11/20\n",
            "585/585 [==============================] - 40s 69ms/step - loss: 0.0558 - accuracy: 0.9797 - val_loss: 0.1666 - val_accuracy: 0.9504\n"
          ]
        },
        {
          "output_type": "execute_result",
          "data": {
            "text/plain": [
              "<keras.callbacks.History at 0x7fb1eb46c810>"
            ]
          },
          "metadata": {},
          "execution_count": 62
        }
      ]
    },
    {
      "cell_type": "markdown",
      "metadata": {
        "id": "KNnT2xOXAAG_"
      },
      "source": [
        "### Evaluate your CNN with the test data. You need to beat the feed-forward network accuracy for full credit. (5 points)"
      ]
    },
    {
      "cell_type": "code",
      "execution_count": 63,
      "metadata": {
        "colab": {
          "base_uri": "https://localhost:8080/"
        },
        "id": "mxUZaNSMAAG_",
        "outputId": "9dd842f2-860e-498b-f622-538a31422ee8"
      },
      "outputs": [
        {
          "output_type": "stream",
          "name": "stdout",
          "text": [
            "73/73 [==============================] - 1s 13ms/step - loss: 0.1982 - accuracy: 0.9472\n",
            "[0.19822515547275543, 0.9471632838249207]\n",
            "0.9471632741446514\n",
            "[[784  44  10   5   4]\n",
            " [  9 175   0   1   0]\n",
            " [ 10   4 542  12   3]\n",
            " [  8   0   2  56   1]\n",
            " [  5   1   3   0 630]]\n"
          ]
        }
      ],
      "source": [
        "# Get the predictions and convert the multicolumn array into class predictions.\n",
        "#Evaluate the network\n",
        "print(model_cnn.evaluate(X_test, y_test_target))\n",
        "y_pred = np.argmax(model_cnn.predict(X_test), axis=1)\n",
        "\n",
        "# Plot the confusion matrix and print the final accuracy.\n",
        "print(accuracy_score(y_pred, y_test))\n",
        "print(confusion_matrix(y_pred, y_test))\n",
        "\n"
      ]
    },
    {
      "cell_type": "markdown",
      "metadata": {
        "id": "KAoI04QMAAG_"
      },
      "source": [
        "### Answer the following questions: (20 points, 5 each)\n",
        "\n",
        "### 1) If we haven't undersampled class 0, we would get a even higher accuracy. (You can check yourself.) Why would this be misleading?\n",
        "\n",
        "### 2) In the previous projects, you used 70-30 and 80-20 train-test splits. Why is a 90-10 split enough for this project?\n",
        "\n",
        "### 3) Why did we need to add a dimension to the dataset before we fed it into a CNN?\n",
        "\n",
        "### 4) Why does a CNN perform better than a feed-forward neural network for the data in this project?"
      ]
    },
    {
      "cell_type": "markdown",
      "source": [
        ""
      ],
      "metadata": {
        "id": "SKFPIbz-Se-C"
      }
    }
  ],
  "metadata": {
    "kernelspec": {
      "display_name": "Python 3",
      "language": "python",
      "name": "python3"
    },
    "language_info": {
      "codemirror_mode": {
        "name": "ipython",
        "version": 3
      },
      "file_extension": ".py",
      "mimetype": "text/x-python",
      "name": "python",
      "nbconvert_exporter": "python",
      "pygments_lexer": "ipython3",
      "version": "3.8.8"
    },
    "colab": {
      "name": "MidtermProject3_Template.ipynb",
      "provenance": [],
      "collapsed_sections": [],
      "include_colab_link": true
    }
  },
  "nbformat": 4,
  "nbformat_minor": 0
}